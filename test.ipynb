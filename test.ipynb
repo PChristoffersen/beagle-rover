{
 "cells": [
  {
   "cell_type": "code",
   "execution_count": 1,
   "metadata": {},
   "outputs": [],
   "source": [
    "import sys\n",
    "sys.path.append('build')\n",
    "\n",
    "from time import sleep\n",
    "from build.beaglerover import Robot, LEDColor, TelemetryListener"
   ]
  },
  {
   "cell_type": "code",
   "execution_count": 2,
   "metadata": {},
   "outputs": [
    {
     "name": "stderr",
     "output_type": "stream",
     "text": [
      "ERROR in rc_servo_power_rail_en, call rc_servo_init first\n",
      "ERROR in rc_motor_free_spin, motor argument must be between 0 & 0\n",
      "ERROR in rc_servo_power_rail_en, call rc_servo_init first\n"
     ]
    },
    {
     "name": "stdout",
     "output_type": "stream",
     "text": [
      "[2021-10-19 08:07:25.752990] [0x00007fdc119fa740] [trace]   Initializing robot\n",
      "[2021-10-19 08:07:25.753114] [0x00007fdc119fa740] [trace]   Starting thread\n"
     ]
    }
   ],
   "source": [
    "robot = Robot()\n",
    "robot.init()"
   ]
  },
  {
   "cell_type": "code",
   "execution_count": 7,
   "metadata": {},
   "outputs": [
    {
     "name": "stderr",
     "output_type": "stream",
     "text": [
      "ERROR: in rc_servo_send_pulse_us, call rc_servo_init first\n"
     ]
    }
   ],
   "source": [
    "for motor in robot.motor_control.motors:\n",
    "    gimbal = motor.gimbal\n",
    "    gimbal.enabled = False\n",
    "    gimbal.pulse_us = 1500\n"
   ]
  },
  {
   "cell_type": "code",
   "execution_count": 5,
   "metadata": {},
   "outputs": [
    {
     "name": "stdout",
     "output_type": "stream",
     "text": [
      "[2021-10-19 08:07:12.516009] [0x00007fe28690a700] [info]    RPM Update\n",
      "[2021-10-19 08:07:12.571652] [0x00007fe2ae5dc740] [trace]   Stopping thread\n",
      "[2021-10-19 08:07:12.571744] [0x00007fe2ae5dc740] [trace]   Thread stopped\n",
      "[2021-10-19 08:07:12.571772] [0x00007fe2ae5dc740] [trace]   Robot stopped\n"
     ]
    }
   ],
   "source": [
    "robot.cleanup()"
   ]
  }
 ],
 "metadata": {
  "interpreter": {
   "hash": "31f2aee4e71d21fbe5cf8b01ff0e069b9275f58929596ceb00d14d90e3e16cd6"
  },
  "kernelspec": {
   "display_name": "Python 3.8.10 64-bit",
   "name": "python3"
  },
  "language_info": {
   "codemirror_mode": {
    "name": "ipython",
    "version": 3
   },
   "file_extension": ".py",
   "mimetype": "text/x-python",
   "name": "python",
   "nbconvert_exporter": "python",
   "pygments_lexer": "ipython3",
   "version": "3.8.10"
  },
  "orig_nbformat": 4
 },
 "nbformat": 4,
 "nbformat_minor": 2
}
